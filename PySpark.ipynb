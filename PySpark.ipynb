{
  "nbformat": 4,
  "nbformat_minor": 0,
  "metadata": {
    "colab": {
      "provenance": [],
      "toc_visible": true,
      "authorship_tag": "ABX9TyPKPZOcpnAt47Xjk0owsgL+",
      "include_colab_link": true
    },
    "kernelspec": {
      "name": "python3",
      "display_name": "Python 3"
    },
    "language_info": {
      "name": "python"
    }
  },
  "cells": [
    {
      "cell_type": "markdown",
      "metadata": {
        "id": "view-in-github",
        "colab_type": "text"
      },
      "source": [
        "<a href=\"https://colab.research.google.com/github/Morinian/PySpark/blob/main/PySpark.ipynb\" target=\"_parent\"><img src=\"https://colab.research.google.com/assets/colab-badge.svg\" alt=\"Open In Colab\"/></a>"
      ]
    },
    {
      "cell_type": "markdown",
      "source": [
        "Iniciando Estudos com PySpark"
      ],
      "metadata": {
        "id": "QvHYuegq-lsD"
      }
    },
    {
      "cell_type": "markdown",
      "source": [
        "# Inicio instalando pyspark\n"
      ],
      "metadata": {
        "id": "7fEL-tnSAIEw"
      }
    },
    {
      "cell_type": "code",
      "execution_count": null,
      "metadata": {
        "colab": {
          "base_uri": "https://localhost:8080/"
        },
        "collapsed": true,
        "id": "JZbeKjFb9LGA",
        "outputId": "77be9ca7-f13a-47d2-d82d-3a151a55b483"
      },
      "outputs": [
        {
          "output_type": "stream",
          "name": "stdout",
          "text": [
            "Collecting pyspark\n",
            "  Downloading pyspark-3.5.1.tar.gz (317.0 MB)\n",
            "\u001b[2K     \u001b[90m━━━━━━━━━━━━━━━━━━━━━━━━━━━━━━━━━━━━━━━━\u001b[0m \u001b[32m317.0/317.0 MB\u001b[0m \u001b[31m3.2 MB/s\u001b[0m eta \u001b[36m0:00:00\u001b[0m\n",
            "\u001b[?25h  Preparing metadata (setup.py) ... \u001b[?25l\u001b[?25hdone\n",
            "Requirement already satisfied: py4j==0.10.9.7 in /usr/local/lib/python3.10/dist-packages (from pyspark) (0.10.9.7)\n",
            "Building wheels for collected packages: pyspark\n",
            "  Building wheel for pyspark (setup.py) ... \u001b[?25l\u001b[?25hdone\n",
            "  Created wheel for pyspark: filename=pyspark-3.5.1-py2.py3-none-any.whl size=317488491 sha256=d71a7fe9f28c03c5202066bbefeb77b705516944669ffe57398f199d16b1259e\n",
            "  Stored in directory: /root/.cache/pip/wheels/80/1d/60/2c256ed38dddce2fdd93be545214a63e02fbd8d74fb0b7f3a6\n",
            "Successfully built pyspark\n",
            "Installing collected packages: pyspark\n",
            "Successfully installed pyspark-3.5.1\n"
          ]
        }
      ],
      "source": [
        "pip install pyspark"
      ]
    },
    {
      "cell_type": "markdown",
      "source": [
        "# Importação de bibliotecas/funções\n",
        "\n"
      ],
      "metadata": {
        "id": "nJvRJsZVBESm"
      }
    },
    {
      "cell_type": "code",
      "source": [
        "import os\n",
        "import sys\n",
        "\n",
        "os.environ[\"PYSPARK_PYTHON\"] = sys.executable\n",
        "os.environ[\"PYSPARK_DRIVER_PYTHON\"] = sys.executable"
      ],
      "metadata": {
        "id": "RtZWseNkBL09"
      },
      "execution_count": null,
      "outputs": []
    },
    {
      "cell_type": "code",
      "source": [
        "from pyspark.sql import SparkSession\n",
        "\n",
        "from pyspark.sql.functions import *\n",
        "\n",
        "from pyspark.sql.types import *"
      ],
      "metadata": {
        "id": "9LjcnP6NBXkf"
      },
      "execution_count": null,
      "outputs": []
    },
    {
      "cell_type": "markdown",
      "source": [
        "# Iniciar Sessão PySpark"
      ],
      "metadata": {
        "id": "bC9PAmXxCVKA"
      }
    },
    {
      "cell_type": "code",
      "source": [
        "spark = (\n",
        "    SparkSession.builder\n",
        "    .master(\"local\") #Trabalha com cluster\n",
        "    .appName(\"Estudo\") #nome da nossa seção\n",
        "    .getOrCreate() #Puxa sessão recente, se não ele cria\n",
        ")"
      ],
      "metadata": {
        "id": "uTYaZorZCZm3"
      },
      "execution_count": null,
      "outputs": []
    },
    {
      "cell_type": "markdown",
      "source": [
        "# Criar dataframe"
      ],
      "metadata": {
        "id": "1heraQWTDEVR"
      }
    },
    {
      "cell_type": "code",
      "source": [
        "df = spark.read.csv('Dados/wc2018-players.csv', header=True, inferSchema=True)\n",
        "#ler aquivo csv\n",
        "#heade = true cabeçalho normalmente existe\n",
        "#inferSchema define o tipo se não deixar true ele deixa tudo como String"
      ],
      "metadata": {
        "id": "j8TQnMOvDHBo"
      },
      "execution_count": null,
      "outputs": []
    },
    {
      "cell_type": "markdown",
      "source": [
        "# Exibir DF"
      ],
      "metadata": {
        "id": "YY5PCoS6bJFz"
      }
    },
    {
      "cell_type": "code",
      "source": [
        "df.show(5)\n",
        "#pode definir quantas linhas ver aqui coloquei 5"
      ],
      "metadata": {
        "colab": {
          "base_uri": "https://localhost:8080/"
        },
        "collapsed": true,
        "id": "bBtmPDYyZ1Jk",
        "outputId": "a61d3ad4-1d4a-4b84-e940-d1fa074279c9"
      },
      "execution_count": null,
      "outputs": [
        {
          "output_type": "stream",
          "name": "stdout",
          "text": [
            "+---------+---+----+------------------+----------+----------+--------------------+------+------+\n",
            "|     Team|  #|Pos.| FIFA Popular Name|Birth Date|Shirt Name|                Club|Height|Weight|\n",
            "+---------+---+----+------------------+----------+----------+--------------------+------+------+\n",
            "|Argentina|  3|  DF|TAGLIAFICO Nicolas|31.08.1992|TAGLIAFICO|      AFC Ajax (NED)|   169|    65|\n",
            "|Argentina| 22|  MF|    PAVON Cristian|21.01.1996|     PAVÓN|CA Boca Juniors (...|   169|    65|\n",
            "|Argentina| 15|  MF|    LANZINI Manuel|15.02.1993|   LANZINI|West Ham United F...|   167|    66|\n",
            "|Argentina| 18|  DF|    SALVIO Eduardo|13.07.1990|    SALVIO|    SL Benfica (POR)|   167|    69|\n",
            "|Argentina| 10|  FW|      MESSI Lionel|24.06.1987|     MESSI|  FC Barcelona (ESP)|   170|    72|\n",
            "+---------+---+----+------------------+----------+----------+--------------------+------+------+\n",
            "only showing top 5 rows\n",
            "\n"
          ]
        }
      ]
    },
    {
      "cell_type": "markdown",
      "source": [
        "Tipo de colunas"
      ],
      "metadata": {
        "id": "vhk-WRGAbqch"
      }
    },
    {
      "cell_type": "code",
      "source": [
        "df.printSchema()\n",
        "#o tipo de cada coluna"
      ],
      "metadata": {
        "colab": {
          "base_uri": "https://localhost:8080/"
        },
        "id": "slnAocVyb1XB",
        "outputId": "97213a4c-7210-4371-a9cd-c425c2c82918"
      },
      "execution_count": null,
      "outputs": [
        {
          "output_type": "stream",
          "name": "stdout",
          "text": [
            "root\n",
            " |-- Team: string (nullable = true)\n",
            " |-- #: integer (nullable = true)\n",
            " |-- Pos.: string (nullable = true)\n",
            " |-- FIFA Popular Name: string (nullable = true)\n",
            " |-- Birth Date: string (nullable = true)\n",
            " |-- Shirt Name: string (nullable = true)\n",
            " |-- Club: string (nullable = true)\n",
            " |-- Height: integer (nullable = true)\n",
            " |-- Weight: integer (nullable = true)\n",
            "\n"
          ]
        }
      ]
    },
    {
      "cell_type": "markdown",
      "source": [
        "Renomear coluna"
      ],
      "metadata": {
        "id": "MVjCbbKUeaS4"
      }
    },
    {
      "cell_type": "code",
      "source": [
        "#Renomeando parar tirar conflito de verificação de nulos\n",
        "\n",
        "df = df.withColumnRenamed('Pos.','Posicao').withColumnRenamed('Team','Selecao').withColumnRenamed('#','Numero')\\\n",
        ".withColumnRenamed('FIFA Popular Name','nomeFifa').withColumnRenamed('Birth Date','Nascimento')\\\n",
        ".withColumnRenamed('Shirt Name','nomeCamiseta').withColumnRenamed('Club','Time')\\\n",
        ".withColumnRenamed('Height','Altura').withColumnRenamed('Weight','Peso')\n",
        "\n",
        "df.show(5)"
      ],
      "metadata": {
        "colab": {
          "base_uri": "https://localhost:8080/"
        },
        "id": "MfKb_3QFeZlR",
        "outputId": "a9d2b094-9839-4aa6-fe68-ac19d077c9c1"
      },
      "execution_count": null,
      "outputs": [
        {
          "output_type": "stream",
          "name": "stdout",
          "text": [
            "+---------+------+-------+------------------+----------+------------+--------------------+------+----+\n",
            "|  Selecao|Numero|Posicao|          nomeFifa|Nascimento|nomeCamiseta|                Time|Altura|Peso|\n",
            "+---------+------+-------+------------------+----------+------------+--------------------+------+----+\n",
            "|Argentina|     3|     DF|TAGLIAFICO Nicolas|31.08.1992|  TAGLIAFICO|      AFC Ajax (NED)|   169|  65|\n",
            "|Argentina|    22|     MF|    PAVON Cristian|21.01.1996|       PAVÓN|CA Boca Juniors (...|   169|  65|\n",
            "|Argentina|    15|     MF|    LANZINI Manuel|15.02.1993|     LANZINI|West Ham United F...|   167|  66|\n",
            "|Argentina|    18|     DF|    SALVIO Eduardo|13.07.1990|      SALVIO|    SL Benfica (POR)|   167|  69|\n",
            "|Argentina|    10|     FW|      MESSI Lionel|24.06.1987|       MESSI|  FC Barcelona (ESP)|   170|  72|\n",
            "+---------+------+-------+------------------+----------+------------+--------------------+------+----+\n",
            "only showing top 5 rows\n",
            "\n"
          ]
        }
      ]
    },
    {
      "cell_type": "markdown",
      "source": [
        "Verificando dados nulos"
      ],
      "metadata": {
        "id": "yYxUs5r9b2Vc"
      }
    },
    {
      "cell_type": "code",
      "source": [
        "for column in df.columns:\n",
        "    print(column, df.filter(df[column].isNull()).count())\n",
        "\n",
        "    #verifica se tem nulos\n",
        "    #O titulo/cabeçalho pode dar erro/conflito então renomei de forma coerente antes de verificar"
      ],
      "metadata": {
        "colab": {
          "base_uri": "https://localhost:8080/"
        },
        "collapsed": true,
        "id": "K7ZYHS1Tb2hM",
        "outputId": "6f553a61-7709-4cb6-ebaa-562d3faeebc7"
      },
      "execution_count": null,
      "outputs": [
        {
          "output_type": "stream",
          "name": "stdout",
          "text": [
            "Selecao 0\n",
            "Numero 0\n",
            "Posicao 0\n",
            "nomeFifa 0\n",
            "Nascimento 0\n",
            "nomeCamiseta 0\n",
            "Time 0\n",
            "Altura 0\n",
            "Peso 0\n"
          ]
        }
      ]
    },
    {
      "cell_type": "markdown",
      "source": [
        "Selecionando colunas"
      ],
      "metadata": {
        "id": "8r64Yz-imqQN"
      }
    },
    {
      "cell_type": "code",
      "source": [
        "df.select('Selecao','nomeFifa').show(5)\n",
        "#forma rapida\n",
        "#trata como string não funcionando com alias"
      ],
      "metadata": {
        "collapsed": true,
        "colab": {
          "base_uri": "https://localhost:8080/"
        },
        "id": "hwG8lQGKmpQk",
        "outputId": "bbc735a8-1638-42e7-b01e-39f2cba9e720"
      },
      "execution_count": null,
      "outputs": [
        {
          "output_type": "stream",
          "name": "stdout",
          "text": [
            "+---------+------------------+\n",
            "|  Selecao|          nomeFifa|\n",
            "+---------+------------------+\n",
            "|Argentina|TAGLIAFICO Nicolas|\n",
            "|Argentina|    PAVON Cristian|\n",
            "|Argentina|    LANZINI Manuel|\n",
            "|Argentina|    SALVIO Eduardo|\n",
            "|Argentina|      MESSI Lionel|\n",
            "+---------+------------------+\n",
            "only showing top 5 rows\n",
            "\n"
          ]
        }
      ]
    },
    {
      "cell_type": "code",
      "source": [
        "df.select(col('Selecao'),col('nomeFifa')).show(5)"
      ],
      "metadata": {
        "collapsed": true,
        "colab": {
          "base_uri": "https://localhost:8080/"
        },
        "id": "eOtGzjAnm7gi",
        "outputId": "dab7ed45-cbf6-46dd-c52c-f7a9d1c7b107"
      },
      "execution_count": null,
      "outputs": [
        {
          "output_type": "stream",
          "name": "stdout",
          "text": [
            "+---------+------------------+\n",
            "|  Selecao|          nomeFifa|\n",
            "+---------+------------------+\n",
            "|Argentina|TAGLIAFICO Nicolas|\n",
            "|Argentina|    PAVON Cristian|\n",
            "|Argentina|    LANZINI Manuel|\n",
            "|Argentina|    SALVIO Eduardo|\n",
            "|Argentina|      MESSI Lionel|\n",
            "+---------+------------------+\n",
            "only showing top 5 rows\n",
            "\n"
          ]
        }
      ]
    },
    {
      "cell_type": "code",
      "source": [
        "df.select(df['Selecao'],df['nomeFifa']).show(5)"
      ],
      "metadata": {
        "collapsed": true,
        "colab": {
          "base_uri": "https://localhost:8080/"
        },
        "id": "erFLaCeGnEvB",
        "outputId": "db5584fd-fd54-4e69-dfed-0f6b2ad24a11"
      },
      "execution_count": null,
      "outputs": [
        {
          "output_type": "stream",
          "name": "stdout",
          "text": [
            "+---------+------------------+\n",
            "|  Selecao|          nomeFifa|\n",
            "+---------+------------------+\n",
            "|Argentina|TAGLIAFICO Nicolas|\n",
            "|Argentina|    PAVON Cristian|\n",
            "|Argentina|    LANZINI Manuel|\n",
            "|Argentina|    SALVIO Eduardo|\n",
            "|Argentina|      MESSI Lionel|\n",
            "+---------+------------------+\n",
            "only showing top 5 rows\n",
            "\n"
          ]
        }
      ]
    },
    {
      "cell_type": "markdown",
      "source": [
        "Selecionando columas com alias"
      ],
      "metadata": {
        "id": "F8NrP6Plnb9F"
      }
    },
    {
      "cell_type": "code",
      "source": [
        "df.select(col('Selecao').alias('Timão')).show(5)"
      ],
      "metadata": {
        "collapsed": true,
        "colab": {
          "base_uri": "https://localhost:8080/"
        },
        "id": "4uo4QVW9nf25",
        "outputId": "9c731833-70a4-4d14-bad4-d46dc5c4ae5c"
      },
      "execution_count": null,
      "outputs": [
        {
          "output_type": "stream",
          "name": "stdout",
          "text": [
            "+---------+\n",
            "|    Timão|\n",
            "+---------+\n",
            "|Argentina|\n",
            "|Argentina|\n",
            "|Argentina|\n",
            "|Argentina|\n",
            "|Argentina|\n",
            "+---------+\n",
            "only showing top 5 rows\n",
            "\n"
          ]
        }
      ]
    },
    {
      "cell_type": "markdown",
      "source": [
        "Organizar Select"
      ],
      "metadata": {
        "id": "BhQg0NUFoWvU"
      }
    },
    {
      "cell_type": "code",
      "source": [
        "df.select('nomeFifa','Peso','Altura').show(5)"
      ],
      "metadata": {
        "colab": {
          "base_uri": "https://localhost:8080/"
        },
        "id": "BZfTCSeNoZyJ",
        "outputId": "7a10634f-f690-427f-805e-035d283cb9aa"
      },
      "execution_count": null,
      "outputs": [
        {
          "output_type": "stream",
          "name": "stdout",
          "text": [
            "+------------------+----+------+\n",
            "|          nomeFifa|Peso|Altura|\n",
            "+------------------+----+------+\n",
            "|TAGLIAFICO Nicolas|  65|   169|\n",
            "|    PAVON Cristian|  65|   169|\n",
            "|    LANZINI Manuel|  66|   167|\n",
            "|    SALVIO Eduardo|  69|   167|\n",
            "|      MESSI Lionel|  72|   170|\n",
            "+------------------+----+------+\n",
            "only showing top 5 rows\n",
            "\n"
          ]
        }
      ]
    },
    {
      "cell_type": "markdown",
      "source": [
        "# Filtrando"
      ],
      "metadata": {
        "id": "9hCaWvwAo4pk"
      }
    },
    {
      "cell_type": "markdown",
      "source": [
        "Filter simples"
      ],
      "metadata": {
        "id": "QhLHPH_GqfXP"
      }
    },
    {
      "cell_type": "code",
      "source": [
        "df.filter('Selecao = \"Brazil\"').show()\n",
        "#nomes de tabela com espaço acaba dando erro\n",
        "#funcionaria apenas com função col\n",
        "\n",
        "#df.filter(col('nome Fifa') == \"Fred\")"
      ],
      "metadata": {
        "collapsed": true,
        "colab": {
          "base_uri": "https://localhost:8080/"
        },
        "id": "vPBVb9m6o0-O",
        "outputId": "04605fe8-b6e1-4661-b832-c4cc26d91439"
      },
      "execution_count": null,
      "outputs": [
        {
          "output_type": "stream",
          "name": "stdout",
          "text": [
            "+-------+------+-------+-----------------+----------+------------+--------------------+------+----+\n",
            "|Selecao|Numero|Posicao|         nomeFifa|Nascimento|nomeCamiseta|                Time|Altura|Peso|\n",
            "+-------+------+-------+-----------------+----------+------------+--------------------+------+----+\n",
            "| Brazil|    18|     MF|             FRED|05.03.1993|        FRED|FC Shakhtar Donet...|   169|  64|\n",
            "| Brazil|    21|     FW|           TAISON|13.01.1988|      TAISON|FC Shakhtar Donet...|   172|  64|\n",
            "| Brazil|    17|     MF|      FERNANDINHO|04.05.1985| FERNANDINHO|Manchester City F...|   179|  67|\n",
            "| Brazil|    22|     DF|           FAGNER|11.06.1989|      FAGNER|SC Corinthians (BRA)|   168|  67|\n",
            "| Brazil|    10|     FW|           NEYMAR|05.02.1992|   NEYMAR JR|Paris Saint-Germa...|   175|  68|\n",
            "| Brazil|    11|     MF|PHILIPPE COUTINHO|12.06.1992| P. COUTINHO|  FC Barcelona (ESP)|   172|  68|\n",
            "| Brazil|     7|     FW|    DOUGLAS COSTA|14.09.1990|    D. COSTA|   Juventus FC (ITA)|   182|  70|\n",
            "| Brazil|     6|     DF|      FILIPE LUIS|09.08.1985| FILIPE LUIS|Atletico Madrid (...|   182|  73|\n",
            "| Brazil|     9|     FW|    GABRIEL JESUS|03.04.1997|    G. JESUS|Manchester City F...|   175|  73|\n",
            "| Brazil|    13|     DF|       MARQUINHOS|14.05.1994|  MARQUINHOS|Paris Saint-Germa...|   183|  75|\n",
            "| Brazil|    20|     FW|  ROBERTO FIRMINO|02.10.1991|     FIRMINO|  Liverpool FC (ENG)|   181|  76|\n",
            "| Brazil|    19|     MF|          WILLIAN|09.08.1988|     WILLIAN|    Chelsea FC (ENG)|   175|  77|\n",
            "| Brazil|     3|     DF|          MIRANDA|07.09.1984|     MIRANDA|FC Internazionale...|   186|  78|\n",
            "| Brazil|    14|     DF|           DANILO|15.07.1991|      DANILO|Manchester City F...|   184|  78|\n",
            "| Brazil|     2|     DF|     THIAGO SILVA|22.09.1984|    T. SILVA|Paris Saint-Germa...|   183|  79|\n",
            "| Brazil|    12|     DF|          MARCELO|12.05.1988|     MARCELO|Real Madrid CF (ESP)|   174|  80|\n",
            "| Brazil|    15|     MF|         PAULINHO|25.07.1988|    PAULINHO|  FC Barcelona (ESP)|   181|  81|\n",
            "| Brazil|     4|     DF|    PEDRO GEROMEL|21.09.1985|     GEROMEL|   Grêmio FBPA (BRA)|   190|  84|\n",
            "| Brazil|     5|     MF|         CASEMIRO|23.02.1992|    CASEMIRO|Real Madrid CF (ESP)|   185|  84|\n",
            "| Brazil|     8|     MF|   RENATO AUGUSTO|08.02.1988|  R. AUGUSTO| Beijing Guoan (CHN)|   186|  86|\n",
            "+-------+------+-------+-----------------+----------+------------+--------------------+------+----+\n",
            "only showing top 20 rows\n",
            "\n"
          ]
        }
      ]
    },
    {
      "cell_type": "markdown",
      "source": [
        "Filter com 2 condições AND"
      ],
      "metadata": {
        "id": "QKHy7_vXqhxC"
      }
    },
    {
      "cell_type": "code",
      "source": [
        "df.filter((col('Selecao') == \"Argentina\") & (col('Altura') > 180)).show()"
      ],
      "metadata": {
        "colab": {
          "base_uri": "https://localhost:8080/"
        },
        "collapsed": true,
        "id": "lwC3fXBjqhB8",
        "outputId": "e62a7147-a37e-452e-e003-cc5b2c368c08"
      },
      "execution_count": null,
      "outputs": [
        {
          "output_type": "stream",
          "name": "stdout",
          "text": [
            "+---------+------+-------+------------------+----------+------------+--------------------+------+----+\n",
            "|  Selecao|Numero|Posicao|          nomeFifa|Nascimento|nomeCamiseta|                Time|Altura|Peso|\n",
            "+---------+------+-------+------------------+----------+------------+--------------------+------+----+\n",
            "|Argentina|     4|     DF|  ANSALDI Cristian|20.09.1986|     ANSALDI|     Torino FC (ITA)|   181|  73|\n",
            "|Argentina|     9|     FW|   HIGUAIN Gonzalo|10.12.1987|     HIGUAÍN|   Juventus FC (ITA)|   184|  75|\n",
            "|Argentina|    23|     GK|CABALLERO Wilfredo|28.09.1981|   CABALLERO|    Chelsea FC (ENG)|   186|  80|\n",
            "|Argentina|     2|     DF|   MERCADO Gabriel|18.03.1987|     MERCADO|    Sevilla FC (ESP)|   181|  81|\n",
            "|Argentina|    17|     DF|  OTAMENDI Nicolas|12.02.1988|    OTAMENDI|Manchester City F...|   181|  81|\n",
            "|Argentina|    16|     DF|       ROJO Marcos|20.03.1990|        ROJO|Manchester United...|   189|  82|\n",
            "|Argentina|     6|     DF|    FAZIO Federico|17.03.1987|       FAZIO|       AS Roma (ITA)|   199|  85|\n",
            "|Argentina|    12|     GK|     ARMANI Franco|16.10.1986|      ARMANI|CA River Plate (ARG)|   189|  85|\n",
            "|Argentina|     1|     GK|     GUZMAN Nahuel|10.02.1986|      GUZMÁN|   Tigres UANL (MEX)|   192|  90|\n",
            "+---------+------+-------+------------------+----------+------------+--------------------+------+----+\n",
            "\n"
          ]
        }
      ]
    },
    {
      "cell_type": "code",
      "source": [
        "df.filter('Selecao = \"Brazil\"').filter(col('Numero') > 20 ).show()\n",
        "#Depois que ele faz a seleção ele vai para o proximo filtro do numero > 20"
      ],
      "metadata": {
        "colab": {
          "base_uri": "https://localhost:8080/"
        },
        "id": "O7UznY_KtUKA",
        "outputId": "eb6adb92-06cc-4262-ad69-abfccbab1c40"
      },
      "execution_count": null,
      "outputs": [
        {
          "output_type": "stream",
          "name": "stdout",
          "text": [
            "+-------+------+-------+--------+----------+------------+--------------------+------+----+\n",
            "|Selecao|Numero|Posicao|nomeFifa|Nascimento|nomeCamiseta|                Time|Altura|Peso|\n",
            "+-------+------+-------+--------+----------+------------+--------------------+------+----+\n",
            "| Brazil|    21|     FW|  TAISON|13.01.1988|      TAISON|FC Shakhtar Donet...|   172|  64|\n",
            "| Brazil|    22|     DF|  FAGNER|11.06.1989|      FAGNER|SC Corinthians (BRA)|   168|  67|\n",
            "| Brazil|    23|     GK| EDERSON|17.08.1993|     EDERSON|Manchester City F...|   188|  86|\n",
            "+-------+------+-------+--------+----------+------------+--------------------+------+----+\n",
            "\n"
          ]
        }
      ]
    },
    {
      "cell_type": "markdown",
      "source": [
        "Filtro OR/|"
      ],
      "metadata": {
        "id": "ARAni4lMt5RG"
      }
    },
    {
      "cell_type": "code",
      "source": [
        "df.filter((col('Selecao') == \"Argentina\") | (col('nomeCamiseta') == \"TAISON\")).show()"
      ],
      "metadata": {
        "colab": {
          "base_uri": "https://localhost:8080/"
        },
        "collapsed": true,
        "id": "MyooOlLNt9ur",
        "outputId": "5f63efdb-ccde-4ad0-dcfe-00422d6364d1"
      },
      "execution_count": null,
      "outputs": [
        {
          "output_type": "stream",
          "name": "stdout",
          "text": [
            "+---------+------+-------+------------------+----------+------------+--------------------+------+----+\n",
            "|  Selecao|Numero|Posicao|          nomeFifa|Nascimento|nomeCamiseta|                Time|Altura|Peso|\n",
            "+---------+------+-------+------------------+----------+------------+--------------------+------+----+\n",
            "|Argentina|     3|     DF|TAGLIAFICO Nicolas|31.08.1992|  TAGLIAFICO|      AFC Ajax (NED)|   169|  65|\n",
            "|Argentina|    22|     MF|    PAVON Cristian|21.01.1996|       PAVÓN|CA Boca Juniors (...|   169|  65|\n",
            "|Argentina|    15|     MF|    LANZINI Manuel|15.02.1993|     LANZINI|West Ham United F...|   167|  66|\n",
            "|Argentina|    18|     DF|    SALVIO Eduardo|13.07.1990|      SALVIO|    SL Benfica (POR)|   167|  69|\n",
            "|Argentina|    10|     FW|      MESSI Lionel|24.06.1987|       MESSI|  FC Barcelona (ESP)|   170|  72|\n",
            "|Argentina|     4|     DF|  ANSALDI Cristian|20.09.1986|     ANSALDI|     Torino FC (ITA)|   181|  73|\n",
            "|Argentina|     5|     MF|      BIGLIA Lucas|30.01.1986|      BIGLIA|      AC Milan (ITA)|   175|  73|\n",
            "|Argentina|     7|     MF|       BANEGA Ever|29.06.1988|      BANEGA|    Sevilla FC (ESP)|   175|  73|\n",
            "|Argentina|    14|     DF| MASCHERANO Javier|08.06.1984|  MASCHERANO|Hebei China Fortu...|   174|  73|\n",
            "|Argentina|    21|     FW|      DYBALA Paulo|15.11.1993|      DYBALA|   Juventus FC (ITA)|   177|  73|\n",
            "|Argentina|    19|     FW|     AGUERO Sergio|02.06.1988|      AGÜERO|Manchester City F...|   172|  74|\n",
            "|Argentina|     9|     FW|   HIGUAIN Gonzalo|10.12.1987|     HIGUAÍN|   Juventus FC (ITA)|   184|  75|\n",
            "|Argentina|    11|     MF|    DI MARIA Angel|14.02.1988|    DI MARÍA|Paris Saint-Germa...|   178|  75|\n",
            "|Argentina|    20|     MF|  LO CELSO Giovani|09.04.1996|    LO CELSO|Paris Saint-Germa...|   177|  75|\n",
            "|Argentina|    13|     MF|  MEZA Maximiliano|15.12.1992|        MEZA|CA Independiente ...|   180|  76|\n",
            "|Argentina|     8|     DF|      ACUNA Marcos|28.10.1991|       ACUÑA|   Sporting CP (POR)|   172|  77|\n",
            "|Argentina|    23|     GK|CABALLERO Wilfredo|28.09.1981|   CABALLERO|    Chelsea FC (ENG)|   186|  80|\n",
            "|Argentina|     2|     DF|   MERCADO Gabriel|18.03.1987|     MERCADO|    Sevilla FC (ESP)|   181|  81|\n",
            "|Argentina|    17|     DF|  OTAMENDI Nicolas|12.02.1988|    OTAMENDI|Manchester City F...|   181|  81|\n",
            "|Argentina|    16|     DF|       ROJO Marcos|20.03.1990|        ROJO|Manchester United...|   189|  82|\n",
            "+---------+------+-------+------------------+----------+------------+--------------------+------+----+\n",
            "only showing top 20 rows\n",
            "\n"
          ]
        }
      ]
    },
    {
      "cell_type": "markdown",
      "source": [
        "Filtro & e |"
      ],
      "metadata": {
        "id": "ZT99O7-lvE1D"
      }
    },
    {
      "cell_type": "code",
      "source": [
        "df.filter((col('Selecao') == \"Brazil\") & (col('Posicao') == \"DF\") | (col('nomeFifa') == 'MESSI Lionel')).show()\n"
      ],
      "metadata": {
        "colab": {
          "base_uri": "https://localhost:8080/"
        },
        "id": "InPt7tHLvJ9M",
        "outputId": "c2865c4b-2bf9-4557-eec7-0ee98e749e2b"
      },
      "execution_count": null,
      "outputs": [
        {
          "output_type": "stream",
          "name": "stdout",
          "text": [
            "+---------+------+-------+-------------+----------+------------+--------------------+------+----+\n",
            "|  Selecao|Numero|Posicao|     nomeFifa|Nascimento|nomeCamiseta|                Time|Altura|Peso|\n",
            "+---------+------+-------+-------------+----------+------------+--------------------+------+----+\n",
            "|Argentina|    10|     FW| MESSI Lionel|24.06.1987|       MESSI|  FC Barcelona (ESP)|   170|  72|\n",
            "|   Brazil|    22|     DF|       FAGNER|11.06.1989|      FAGNER|SC Corinthians (BRA)|   168|  67|\n",
            "|   Brazil|     6|     DF|  FILIPE LUIS|09.08.1985| FILIPE LUIS|Atletico Madrid (...|   182|  73|\n",
            "|   Brazil|    13|     DF|   MARQUINHOS|14.05.1994|  MARQUINHOS|Paris Saint-Germa...|   183|  75|\n",
            "|   Brazil|     3|     DF|      MIRANDA|07.09.1984|     MIRANDA|FC Internazionale...|   186|  78|\n",
            "|   Brazil|    14|     DF|       DANILO|15.07.1991|      DANILO|Manchester City F...|   184|  78|\n",
            "|   Brazil|     2|     DF| THIAGO SILVA|22.09.1984|    T. SILVA|Paris Saint-Germa...|   183|  79|\n",
            "|   Brazil|    12|     DF|      MARCELO|12.05.1988|     MARCELO|Real Madrid CF (ESP)|   174|  80|\n",
            "|   Brazil|     4|     DF|PEDRO GEROMEL|21.09.1985|     GEROMEL|   Grêmio FBPA (BRA)|   190|  84|\n",
            "+---------+------+-------+-------------+----------+------------+--------------------+------+----+\n",
            "\n"
          ]
        }
      ]
    },
    {
      "cell_type": "markdown",
      "source": [
        "# Criação de Colunas (lit)"
      ],
      "metadata": {
        "id": "mrRxuas-wknO"
      }
    },
    {
      "cell_type": "code",
      "source": [
        "df.withColumn('WordlCup', lit(2018)).show() #lit = literal , permite criar função"
      ],
      "metadata": {
        "collapsed": true,
        "colab": {
          "base_uri": "https://localhost:8080/"
        },
        "id": "1uJA4stbwpQI",
        "outputId": "419371ea-106c-444e-dfce-771f2c0a1d56"
      },
      "execution_count": null,
      "outputs": [
        {
          "output_type": "stream",
          "name": "stdout",
          "text": [
            "+---------+------+-------+------------------+----------+------------+--------------------+------+----+--------+\n",
            "|  Selecao|Numero|Posicao|          nomeFifa|Nascimento|nomeCamiseta|                Time|Altura|Peso|WordlCup|\n",
            "+---------+------+-------+------------------+----------+------------+--------------------+------+----+--------+\n",
            "|Argentina|     3|     DF|TAGLIAFICO Nicolas|31.08.1992|  TAGLIAFICO|      AFC Ajax (NED)|   169|  65|    2018|\n",
            "|Argentina|    22|     MF|    PAVON Cristian|21.01.1996|       PAVÓN|CA Boca Juniors (...|   169|  65|    2018|\n",
            "|Argentina|    15|     MF|    LANZINI Manuel|15.02.1993|     LANZINI|West Ham United F...|   167|  66|    2018|\n",
            "|Argentina|    18|     DF|    SALVIO Eduardo|13.07.1990|      SALVIO|    SL Benfica (POR)|   167|  69|    2018|\n",
            "|Argentina|    10|     FW|      MESSI Lionel|24.06.1987|       MESSI|  FC Barcelona (ESP)|   170|  72|    2018|\n",
            "|Argentina|     4|     DF|  ANSALDI Cristian|20.09.1986|     ANSALDI|     Torino FC (ITA)|   181|  73|    2018|\n",
            "|Argentina|     5|     MF|      BIGLIA Lucas|30.01.1986|      BIGLIA|      AC Milan (ITA)|   175|  73|    2018|\n",
            "|Argentina|     7|     MF|       BANEGA Ever|29.06.1988|      BANEGA|    Sevilla FC (ESP)|   175|  73|    2018|\n",
            "|Argentina|    14|     DF| MASCHERANO Javier|08.06.1984|  MASCHERANO|Hebei China Fortu...|   174|  73|    2018|\n",
            "|Argentina|    21|     FW|      DYBALA Paulo|15.11.1993|      DYBALA|   Juventus FC (ITA)|   177|  73|    2018|\n",
            "|Argentina|    19|     FW|     AGUERO Sergio|02.06.1988|      AGÜERO|Manchester City F...|   172|  74|    2018|\n",
            "|Argentina|     9|     FW|   HIGUAIN Gonzalo|10.12.1987|     HIGUAÍN|   Juventus FC (ITA)|   184|  75|    2018|\n",
            "|Argentina|    11|     MF|    DI MARIA Angel|14.02.1988|    DI MARÍA|Paris Saint-Germa...|   178|  75|    2018|\n",
            "|Argentina|    20|     MF|  LO CELSO Giovani|09.04.1996|    LO CELSO|Paris Saint-Germa...|   177|  75|    2018|\n",
            "|Argentina|    13|     MF|  MEZA Maximiliano|15.12.1992|        MEZA|CA Independiente ...|   180|  76|    2018|\n",
            "|Argentina|     8|     DF|      ACUNA Marcos|28.10.1991|       ACUÑA|   Sporting CP (POR)|   172|  77|    2018|\n",
            "|Argentina|    23|     GK|CABALLERO Wilfredo|28.09.1981|   CABALLERO|    Chelsea FC (ENG)|   186|  80|    2018|\n",
            "|Argentina|     2|     DF|   MERCADO Gabriel|18.03.1987|     MERCADO|    Sevilla FC (ESP)|   181|  81|    2018|\n",
            "|Argentina|    17|     DF|  OTAMENDI Nicolas|12.02.1988|    OTAMENDI|Manchester City F...|   181|  81|    2018|\n",
            "|Argentina|    16|     DF|       ROJO Marcos|20.03.1990|        ROJO|Manchester United...|   189|  82|    2018|\n",
            "+---------+------+-------+------------------+----------+------------+--------------------+------+----+--------+\n",
            "only showing top 20 rows\n",
            "\n"
          ]
        }
      ]
    },
    {
      "cell_type": "code",
      "source": [
        "df.withColumn('WordlCup', lit(col('Altura')-col('Peso'))).show() #função"
      ],
      "metadata": {
        "collapsed": true,
        "colab": {
          "base_uri": "https://localhost:8080/"
        },
        "id": "wPfiyq1hxQ1s",
        "outputId": "09bfd841-a6f7-4d6d-a653-d96291ae59fe"
      },
      "execution_count": null,
      "outputs": [
        {
          "output_type": "stream",
          "name": "stdout",
          "text": [
            "+---------+------+-------+------------------+----------+------------+--------------------+------+----+--------+\n",
            "|  Selecao|Numero|Posicao|          nomeFifa|Nascimento|nomeCamiseta|                Time|Altura|Peso|WordlCup|\n",
            "+---------+------+-------+------------------+----------+------------+--------------------+------+----+--------+\n",
            "|Argentina|     3|     DF|TAGLIAFICO Nicolas|31.08.1992|  TAGLIAFICO|      AFC Ajax (NED)|   169|  65|     104|\n",
            "|Argentina|    22|     MF|    PAVON Cristian|21.01.1996|       PAVÓN|CA Boca Juniors (...|   169|  65|     104|\n",
            "|Argentina|    15|     MF|    LANZINI Manuel|15.02.1993|     LANZINI|West Ham United F...|   167|  66|     101|\n",
            "|Argentina|    18|     DF|    SALVIO Eduardo|13.07.1990|      SALVIO|    SL Benfica (POR)|   167|  69|      98|\n",
            "|Argentina|    10|     FW|      MESSI Lionel|24.06.1987|       MESSI|  FC Barcelona (ESP)|   170|  72|      98|\n",
            "|Argentina|     4|     DF|  ANSALDI Cristian|20.09.1986|     ANSALDI|     Torino FC (ITA)|   181|  73|     108|\n",
            "|Argentina|     5|     MF|      BIGLIA Lucas|30.01.1986|      BIGLIA|      AC Milan (ITA)|   175|  73|     102|\n",
            "|Argentina|     7|     MF|       BANEGA Ever|29.06.1988|      BANEGA|    Sevilla FC (ESP)|   175|  73|     102|\n",
            "|Argentina|    14|     DF| MASCHERANO Javier|08.06.1984|  MASCHERANO|Hebei China Fortu...|   174|  73|     101|\n",
            "|Argentina|    21|     FW|      DYBALA Paulo|15.11.1993|      DYBALA|   Juventus FC (ITA)|   177|  73|     104|\n",
            "|Argentina|    19|     FW|     AGUERO Sergio|02.06.1988|      AGÜERO|Manchester City F...|   172|  74|      98|\n",
            "|Argentina|     9|     FW|   HIGUAIN Gonzalo|10.12.1987|     HIGUAÍN|   Juventus FC (ITA)|   184|  75|     109|\n",
            "|Argentina|    11|     MF|    DI MARIA Angel|14.02.1988|    DI MARÍA|Paris Saint-Germa...|   178|  75|     103|\n",
            "|Argentina|    20|     MF|  LO CELSO Giovani|09.04.1996|    LO CELSO|Paris Saint-Germa...|   177|  75|     102|\n",
            "|Argentina|    13|     MF|  MEZA Maximiliano|15.12.1992|        MEZA|CA Independiente ...|   180|  76|     104|\n",
            "|Argentina|     8|     DF|      ACUNA Marcos|28.10.1991|       ACUÑA|   Sporting CP (POR)|   172|  77|      95|\n",
            "|Argentina|    23|     GK|CABALLERO Wilfredo|28.09.1981|   CABALLERO|    Chelsea FC (ENG)|   186|  80|     106|\n",
            "|Argentina|     2|     DF|   MERCADO Gabriel|18.03.1987|     MERCADO|    Sevilla FC (ESP)|   181|  81|     100|\n",
            "|Argentina|    17|     DF|  OTAMENDI Nicolas|12.02.1988|    OTAMENDI|Manchester City F...|   181|  81|     100|\n",
            "|Argentina|    16|     DF|       ROJO Marcos|20.03.1990|        ROJO|Manchester United...|   189|  82|     107|\n",
            "+---------+------+-------+------------------+----------+------------+--------------------+------+----+--------+\n",
            "only showing top 20 rows\n",
            "\n"
          ]
        }
      ]
    },
    {
      "cell_type": "markdown",
      "source": [
        "Criar coluna condicional"
      ],
      "metadata": {
        "id": "mUA3R2lkyejS"
      }
    },
    {
      "cell_type": "code",
      "source": [
        "df.withColumn('AnoNascimento', substring('Nascimento', 7,10)).show()"
      ],
      "metadata": {
        "collapsed": true,
        "colab": {
          "base_uri": "https://localhost:8080/"
        },
        "id": "1bW3J6sWxmze",
        "outputId": "4211e475-84d3-4519-ff6d-5537d10652cf"
      },
      "execution_count": null,
      "outputs": [
        {
          "output_type": "stream",
          "name": "stdout",
          "text": [
            "+---------+------+-------+------------------+----------+------------+--------------------+------+----+-------------+\n",
            "|  Selecao|Numero|Posicao|          nomeFifa|Nascimento|nomeCamiseta|                Time|Altura|Peso|AnoNascimento|\n",
            "+---------+------+-------+------------------+----------+------------+--------------------+------+----+-------------+\n",
            "|Argentina|     3|     DF|TAGLIAFICO Nicolas|31.08.1992|  TAGLIAFICO|      AFC Ajax (NED)|   169|  65|         1992|\n",
            "|Argentina|    22|     MF|    PAVON Cristian|21.01.1996|       PAVÓN|CA Boca Juniors (...|   169|  65|         1996|\n",
            "|Argentina|    15|     MF|    LANZINI Manuel|15.02.1993|     LANZINI|West Ham United F...|   167|  66|         1993|\n",
            "|Argentina|    18|     DF|    SALVIO Eduardo|13.07.1990|      SALVIO|    SL Benfica (POR)|   167|  69|         1990|\n",
            "|Argentina|    10|     FW|      MESSI Lionel|24.06.1987|       MESSI|  FC Barcelona (ESP)|   170|  72|         1987|\n",
            "|Argentina|     4|     DF|  ANSALDI Cristian|20.09.1986|     ANSALDI|     Torino FC (ITA)|   181|  73|         1986|\n",
            "|Argentina|     5|     MF|      BIGLIA Lucas|30.01.1986|      BIGLIA|      AC Milan (ITA)|   175|  73|         1986|\n",
            "|Argentina|     7|     MF|       BANEGA Ever|29.06.1988|      BANEGA|    Sevilla FC (ESP)|   175|  73|         1988|\n",
            "|Argentina|    14|     DF| MASCHERANO Javier|08.06.1984|  MASCHERANO|Hebei China Fortu...|   174|  73|         1984|\n",
            "|Argentina|    21|     FW|      DYBALA Paulo|15.11.1993|      DYBALA|   Juventus FC (ITA)|   177|  73|         1993|\n",
            "|Argentina|    19|     FW|     AGUERO Sergio|02.06.1988|      AGÜERO|Manchester City F...|   172|  74|         1988|\n",
            "|Argentina|     9|     FW|   HIGUAIN Gonzalo|10.12.1987|     HIGUAÍN|   Juventus FC (ITA)|   184|  75|         1987|\n",
            "|Argentina|    11|     MF|    DI MARIA Angel|14.02.1988|    DI MARÍA|Paris Saint-Germa...|   178|  75|         1988|\n",
            "|Argentina|    20|     MF|  LO CELSO Giovani|09.04.1996|    LO CELSO|Paris Saint-Germa...|   177|  75|         1996|\n",
            "|Argentina|    13|     MF|  MEZA Maximiliano|15.12.1992|        MEZA|CA Independiente ...|   180|  76|         1992|\n",
            "|Argentina|     8|     DF|      ACUNA Marcos|28.10.1991|       ACUÑA|   Sporting CP (POR)|   172|  77|         1991|\n",
            "|Argentina|    23|     GK|CABALLERO Wilfredo|28.09.1981|   CABALLERO|    Chelsea FC (ENG)|   186|  80|         1981|\n",
            "|Argentina|     2|     DF|   MERCADO Gabriel|18.03.1987|     MERCADO|    Sevilla FC (ESP)|   181|  81|         1987|\n",
            "|Argentina|    17|     DF|  OTAMENDI Nicolas|12.02.1988|    OTAMENDI|Manchester City F...|   181|  81|         1988|\n",
            "|Argentina|    16|     DF|       ROJO Marcos|20.03.1990|        ROJO|Manchester United...|   189|  82|         1990|\n",
            "+---------+------+-------+------------------+----------+------------+--------------------+------+----+-------------+\n",
            "only showing top 20 rows\n",
            "\n"
          ]
        }
      ]
    },
    {
      "cell_type": "code",
      "source": [
        "df.withColumn('AnoNascimento', substring('Nascimento', -4,4)).show()  #Começa pelo fim"
      ],
      "metadata": {
        "collapsed": true,
        "colab": {
          "base_uri": "https://localhost:8080/"
        },
        "id": "SC_cZdKDyht9",
        "outputId": "79c4e10d-2769-4ed6-cc52-7559fd4b9b71"
      },
      "execution_count": null,
      "outputs": [
        {
          "output_type": "stream",
          "name": "stdout",
          "text": [
            "+---------+------+-------+------------------+----------+------------+--------------------+------+----+-------------+\n",
            "|  Selecao|Numero|Posicao|          nomeFifa|Nascimento|nomeCamiseta|                Time|Altura|Peso|AnoNascimento|\n",
            "+---------+------+-------+------------------+----------+------------+--------------------+------+----+-------------+\n",
            "|Argentina|     3|     DF|TAGLIAFICO Nicolas|31.08.1992|  TAGLIAFICO|      AFC Ajax (NED)|   169|  65|         1992|\n",
            "|Argentina|    22|     MF|    PAVON Cristian|21.01.1996|       PAVÓN|CA Boca Juniors (...|   169|  65|         1996|\n",
            "|Argentina|    15|     MF|    LANZINI Manuel|15.02.1993|     LANZINI|West Ham United F...|   167|  66|         1993|\n",
            "|Argentina|    18|     DF|    SALVIO Eduardo|13.07.1990|      SALVIO|    SL Benfica (POR)|   167|  69|         1990|\n",
            "|Argentina|    10|     FW|      MESSI Lionel|24.06.1987|       MESSI|  FC Barcelona (ESP)|   170|  72|         1987|\n",
            "|Argentina|     4|     DF|  ANSALDI Cristian|20.09.1986|     ANSALDI|     Torino FC (ITA)|   181|  73|         1986|\n",
            "|Argentina|     5|     MF|      BIGLIA Lucas|30.01.1986|      BIGLIA|      AC Milan (ITA)|   175|  73|         1986|\n",
            "|Argentina|     7|     MF|       BANEGA Ever|29.06.1988|      BANEGA|    Sevilla FC (ESP)|   175|  73|         1988|\n",
            "|Argentina|    14|     DF| MASCHERANO Javier|08.06.1984|  MASCHERANO|Hebei China Fortu...|   174|  73|         1984|\n",
            "|Argentina|    21|     FW|      DYBALA Paulo|15.11.1993|      DYBALA|   Juventus FC (ITA)|   177|  73|         1993|\n",
            "|Argentina|    19|     FW|     AGUERO Sergio|02.06.1988|      AGÜERO|Manchester City F...|   172|  74|         1988|\n",
            "|Argentina|     9|     FW|   HIGUAIN Gonzalo|10.12.1987|     HIGUAÍN|   Juventus FC (ITA)|   184|  75|         1987|\n",
            "|Argentina|    11|     MF|    DI MARIA Angel|14.02.1988|    DI MARÍA|Paris Saint-Germa...|   178|  75|         1988|\n",
            "|Argentina|    20|     MF|  LO CELSO Giovani|09.04.1996|    LO CELSO|Paris Saint-Germa...|   177|  75|         1996|\n",
            "|Argentina|    13|     MF|  MEZA Maximiliano|15.12.1992|        MEZA|CA Independiente ...|   180|  76|         1992|\n",
            "|Argentina|     8|     DF|      ACUNA Marcos|28.10.1991|       ACUÑA|   Sporting CP (POR)|   172|  77|         1991|\n",
            "|Argentina|    23|     GK|CABALLERO Wilfredo|28.09.1981|   CABALLERO|    Chelsea FC (ENG)|   186|  80|         1981|\n",
            "|Argentina|     2|     DF|   MERCADO Gabriel|18.03.1987|     MERCADO|    Sevilla FC (ESP)|   181|  81|         1987|\n",
            "|Argentina|    17|     DF|  OTAMENDI Nicolas|12.02.1988|    OTAMENDI|Manchester City F...|   181|  81|         1988|\n",
            "|Argentina|    16|     DF|       ROJO Marcos|20.03.1990|        ROJO|Manchester United...|   189|  82|         1990|\n",
            "+---------+------+-------+------------------+----------+------------+--------------------+------+----+-------------+\n",
            "only showing top 20 rows\n",
            "\n"
          ]
        }
      ]
    },
    {
      "cell_type": "markdown",
      "source": [
        "Para deixar a tabela criada anteriormente no DF necessita sobrescreve-lo"
      ],
      "metadata": {
        "id": "t45S622KyvKF"
      }
    },
    {
      "cell_type": "code",
      "source": [
        "df = df.withColumn('AnoNascimento', substring('Nascimento', -4,4))"
      ],
      "metadata": {
        "id": "cFjSVOgHy1Qx"
      },
      "execution_count": null,
      "outputs": []
    },
    {
      "cell_type": "code",
      "source": [
        "df.show();"
      ],
      "metadata": {
        "collapsed": true,
        "colab": {
          "base_uri": "https://localhost:8080/"
        },
        "id": "q7UtV8rcy3iB",
        "outputId": "f24e51c9-7e7e-40df-d4fe-4c4c48b246a5"
      },
      "execution_count": null,
      "outputs": [
        {
          "output_type": "stream",
          "name": "stdout",
          "text": [
            "+---------+------+-------+------------------+----------+------------+--------------------+------+----+-------------+\n",
            "|  Selecao|Numero|Posicao|          nomeFifa|Nascimento|nomeCamiseta|                Time|Altura|Peso|AnoNascimento|\n",
            "+---------+------+-------+------------------+----------+------------+--------------------+------+----+-------------+\n",
            "|Argentina|     3|     DF|TAGLIAFICO Nicolas|31.08.1992|  TAGLIAFICO|      AFC Ajax (NED)|   169|  65|         1992|\n",
            "|Argentina|    22|     MF|    PAVON Cristian|21.01.1996|       PAVÓN|CA Boca Juniors (...|   169|  65|         1996|\n",
            "|Argentina|    15|     MF|    LANZINI Manuel|15.02.1993|     LANZINI|West Ham United F...|   167|  66|         1993|\n",
            "|Argentina|    18|     DF|    SALVIO Eduardo|13.07.1990|      SALVIO|    SL Benfica (POR)|   167|  69|         1990|\n",
            "|Argentina|    10|     FW|      MESSI Lionel|24.06.1987|       MESSI|  FC Barcelona (ESP)|   170|  72|         1987|\n",
            "|Argentina|     4|     DF|  ANSALDI Cristian|20.09.1986|     ANSALDI|     Torino FC (ITA)|   181|  73|         1986|\n",
            "|Argentina|     5|     MF|      BIGLIA Lucas|30.01.1986|      BIGLIA|      AC Milan (ITA)|   175|  73|         1986|\n",
            "|Argentina|     7|     MF|       BANEGA Ever|29.06.1988|      BANEGA|    Sevilla FC (ESP)|   175|  73|         1988|\n",
            "|Argentina|    14|     DF| MASCHERANO Javier|08.06.1984|  MASCHERANO|Hebei China Fortu...|   174|  73|         1984|\n",
            "|Argentina|    21|     FW|      DYBALA Paulo|15.11.1993|      DYBALA|   Juventus FC (ITA)|   177|  73|         1993|\n",
            "|Argentina|    19|     FW|     AGUERO Sergio|02.06.1988|      AGÜERO|Manchester City F...|   172|  74|         1988|\n",
            "|Argentina|     9|     FW|   HIGUAIN Gonzalo|10.12.1987|     HIGUAÍN|   Juventus FC (ITA)|   184|  75|         1987|\n",
            "|Argentina|    11|     MF|    DI MARIA Angel|14.02.1988|    DI MARÍA|Paris Saint-Germa...|   178|  75|         1988|\n",
            "|Argentina|    20|     MF|  LO CELSO Giovani|09.04.1996|    LO CELSO|Paris Saint-Germa...|   177|  75|         1996|\n",
            "|Argentina|    13|     MF|  MEZA Maximiliano|15.12.1992|        MEZA|CA Independiente ...|   180|  76|         1992|\n",
            "|Argentina|     8|     DF|      ACUNA Marcos|28.10.1991|       ACUÑA|   Sporting CP (POR)|   172|  77|         1991|\n",
            "|Argentina|    23|     GK|CABALLERO Wilfredo|28.09.1981|   CABALLERO|    Chelsea FC (ENG)|   186|  80|         1981|\n",
            "|Argentina|     2|     DF|   MERCADO Gabriel|18.03.1987|     MERCADO|    Sevilla FC (ESP)|   181|  81|         1987|\n",
            "|Argentina|    17|     DF|  OTAMENDI Nicolas|12.02.1988|    OTAMENDI|Manchester City F...|   181|  81|         1988|\n",
            "|Argentina|    16|     DF|       ROJO Marcos|20.03.1990|        ROJO|Manchester United...|   189|  82|         1990|\n",
            "+---------+------+-------+------------------+----------+------------+--------------------+------+----+-------------+\n",
            "only showing top 20 rows\n",
            "\n"
          ]
        }
      ]
    },
    {
      "cell_type": "markdown",
      "source": [
        "Criar coluna condicional (concat/concat_WS)"
      ],
      "metadata": {
        "id": "ZUitJR5Q5X_6"
      }
    },
    {
      "cell_type": "code",
      "source": [
        "df.withColumn('Concat',concat('Selecao','nomeFifa')).show(5)\n",
        "#gruda os dois valores"
      ],
      "metadata": {
        "colab": {
          "base_uri": "https://localhost:8080/"
        },
        "id": "sFNsLKAM5dbM",
        "outputId": "25125171-d3e5-4e3e-94cc-bdf2dcb4aee9",
        "collapsed": true
      },
      "execution_count": null,
      "outputs": [
        {
          "output_type": "stream",
          "name": "stdout",
          "text": [
            "+---------+------+-------+------------------+----------+------------+--------------------+------+----+-------------+--------------------+\n",
            "|  Selecao|Numero|Posicao|          nomeFifa|Nascimento|nomeCamiseta|                Time|Altura|Peso|AnoNascimento|              Concat|\n",
            "+---------+------+-------+------------------+----------+------------+--------------------+------+----+-------------+--------------------+\n",
            "|Argentina|     3|     DF|TAGLIAFICO Nicolas|31.08.1992|  TAGLIAFICO|      AFC Ajax (NED)|   169|  65|         1992|ArgentinaTAGLIAFI...|\n",
            "|Argentina|    22|     MF|    PAVON Cristian|21.01.1996|       PAVÓN|CA Boca Juniors (...|   169|  65|         1996|ArgentinaPAVON Cr...|\n",
            "|Argentina|    15|     MF|    LANZINI Manuel|15.02.1993|     LANZINI|West Ham United F...|   167|  66|         1993|ArgentinaLANZINI ...|\n",
            "|Argentina|    18|     DF|    SALVIO Eduardo|13.07.1990|      SALVIO|    SL Benfica (POR)|   167|  69|         1990|ArgentinaSALVIO E...|\n",
            "|Argentina|    10|     FW|      MESSI Lionel|24.06.1987|       MESSI|  FC Barcelona (ESP)|   170|  72|         1987|ArgentinaMESSI Li...|\n",
            "+---------+------+-------+------------------+----------+------------+--------------------+------+----+-------------+--------------------+\n",
            "only showing top 5 rows\n",
            "\n"
          ]
        }
      ]
    },
    {
      "cell_type": "code",
      "source": [
        "df.withColumn('Separador', concat_ws('-','Selecao','nomeFifa')).show(5)\n",
        "#separador"
      ],
      "metadata": {
        "colab": {
          "base_uri": "https://localhost:8080/"
        },
        "id": "qERh0LSD5Q_9",
        "outputId": "4c58cecd-dcce-4980-ac0b-35692f493f79",
        "collapsed": true
      },
      "execution_count": null,
      "outputs": [
        {
          "output_type": "stream",
          "name": "stdout",
          "text": [
            "+---------+------+-------+------------------+----------+------------+--------------------+------+----+-------------+--------------------+\n",
            "|  Selecao|Numero|Posicao|          nomeFifa|Nascimento|nomeCamiseta|                Time|Altura|Peso|AnoNascimento|           Separador|\n",
            "+---------+------+-------+------------------+----------+------------+--------------------+------+----+-------------+--------------------+\n",
            "|Argentina|     3|     DF|TAGLIAFICO Nicolas|31.08.1992|  TAGLIAFICO|      AFC Ajax (NED)|   169|  65|         1992|Argentina-TAGLIAF...|\n",
            "|Argentina|    22|     MF|    PAVON Cristian|21.01.1996|       PAVÓN|CA Boca Juniors (...|   169|  65|         1996|Argentina-PAVON C...|\n",
            "|Argentina|    15|     MF|    LANZINI Manuel|15.02.1993|     LANZINI|West Ham United F...|   167|  66|         1993|Argentina-LANZINI...|\n",
            "|Argentina|    18|     DF|    SALVIO Eduardo|13.07.1990|      SALVIO|    SL Benfica (POR)|   167|  69|         1990|Argentina-SALVIO ...|\n",
            "|Argentina|    10|     FW|      MESSI Lionel|24.06.1987|       MESSI|  FC Barcelona (ESP)|   170|  72|         1987|Argentina-MESSI L...|\n",
            "+---------+------+-------+------------------+----------+------------+--------------------+------+----+-------------+--------------------+\n",
            "only showing top 5 rows\n",
            "\n"
          ]
        }
      ]
    },
    {
      "cell_type": "markdown",
      "source": [
        "# Editar Coluna Tipo"
      ],
      "metadata": {
        "id": "-ToU71MH68z8"
      }
    },
    {
      "cell_type": "code",
      "source": [
        "df.printSchema()"
      ],
      "metadata": {
        "colab": {
          "base_uri": "https://localhost:8080/"
        },
        "collapsed": true,
        "id": "XBkZ9VGS-fgE",
        "outputId": "c0eabc04-2ae9-4826-c0c3-9384e6263f35"
      },
      "execution_count": null,
      "outputs": [
        {
          "output_type": "stream",
          "name": "stdout",
          "text": [
            "root\n",
            " |-- Selecao: string (nullable = true)\n",
            " |-- Numero: integer (nullable = true)\n",
            " |-- Posicao: string (nullable = true)\n",
            " |-- nomeFifa: string (nullable = true)\n",
            " |-- Nascimento: string (nullable = true)\n",
            " |-- nomeCamiseta: string (nullable = true)\n",
            " |-- Time: string (nullable = true)\n",
            " |-- Altura: integer (nullable = true)\n",
            " |-- Peso: integer (nullable = true)\n",
            " |-- AnoNascimento: string (nullable = true)\n",
            "\n"
          ]
        }
      ]
    },
    {
      "cell_type": "code",
      "source": [
        "df.withColumn('AnoNascimento', col('AnoNascimento').cast(IntegerType()))"
      ],
      "metadata": {
        "colab": {
          "base_uri": "https://localhost:8080/"
        },
        "id": "OjrYxIuO7CmU",
        "outputId": "0b3f87a3-cfa2-44ae-f24a-9994b995b8ca"
      },
      "execution_count": null,
      "outputs": [
        {
          "output_type": "execute_result",
          "data": {
            "text/plain": [
              "DataFrame[Selecao: string, Numero: int, Posicao: string, nomeFifa: string, Nascimento: string, nomeCamiseta: string, Time: string, Altura: int, Peso: int, AnoNascimento: int]"
            ]
          },
          "metadata": {},
          "execution_count": 291
        }
      ]
    },
    {
      "cell_type": "markdown",
      "source": [
        "# Desafio datetype"
      ],
      "metadata": {
        "id": "RMZdeRLz_7uO"
      }
    },
    {
      "cell_type": "code",
      "source": [
        "dia = udf(lambda data: data.split('.')[0])\n",
        "mes = udf(lambda data: data.split('.')[1])\n",
        "ano = udf(lambda data: data.split('.')[2])\n",
        "\n",
        "df = df.withColumn('Nascimento', concat_ws('-',ano('Nascimento'),mes('Nascimento'),dia('Nascimento')).cast(DateType()))\n",
        "\n",
        "df.printSchema()"
      ],
      "metadata": {
        "colab": {
          "base_uri": "https://localhost:8080/"
        },
        "collapsed": true,
        "id": "kSM6xr6mAENT",
        "outputId": "fe93fae0-32cd-433c-9bb1-5ad7eef03e64"
      },
      "execution_count": null,
      "outputs": [
        {
          "output_type": "stream",
          "name": "stdout",
          "text": [
            "root\n",
            " |-- Selecao: string (nullable = true)\n",
            " |-- Numero: integer (nullable = true)\n",
            " |-- Posicao: string (nullable = true)\n",
            " |-- nomeFifa: string (nullable = true)\n",
            " |-- Nascimento: date (nullable = true)\n",
            " |-- nomeCamiseta: string (nullable = true)\n",
            " |-- Time: string (nullable = true)\n",
            " |-- Altura: integer (nullable = true)\n",
            " |-- Peso: integer (nullable = true)\n",
            " |-- AnoNascimento: string (nullable = true)\n",
            "\n"
          ]
        }
      ]
    },
    {
      "cell_type": "code",
      "source": [
        "df.show()\n",
        "df.printSchema()"
      ],
      "metadata": {
        "colab": {
          "base_uri": "https://localhost:8080/"
        },
        "collapsed": true,
        "id": "BEKvfjIaNf3i",
        "outputId": "6fd03379-a363-4fea-f650-df6a965d86c3"
      },
      "execution_count": null,
      "outputs": [
        {
          "output_type": "stream",
          "name": "stdout",
          "text": [
            "+---------+------+-------+------------------+----------+------------+--------------------+------+----+-------------+\n",
            "|  Selecao|Numero|Posicao|          nomeFifa|Nascimento|nomeCamiseta|                Time|Altura|Peso|AnoNascimento|\n",
            "+---------+------+-------+------------------+----------+------------+--------------------+------+----+-------------+\n",
            "|Argentina|     3|     DF|TAGLIAFICO Nicolas|1992-08-31|  TAGLIAFICO|      AFC Ajax (NED)|   169|  65|         1992|\n",
            "|Argentina|    22|     MF|    PAVON Cristian|1996-01-21|       PAVÓN|CA Boca Juniors (...|   169|  65|         1996|\n",
            "|Argentina|    15|     MF|    LANZINI Manuel|1993-02-15|     LANZINI|West Ham United F...|   167|  66|         1993|\n",
            "|Argentina|    18|     DF|    SALVIO Eduardo|1990-07-13|      SALVIO|    SL Benfica (POR)|   167|  69|         1990|\n",
            "|Argentina|    10|     FW|      MESSI Lionel|1987-06-24|       MESSI|  FC Barcelona (ESP)|   170|  72|         1987|\n",
            "|Argentina|     4|     DF|  ANSALDI Cristian|1986-09-20|     ANSALDI|     Torino FC (ITA)|   181|  73|         1986|\n",
            "|Argentina|     5|     MF|      BIGLIA Lucas|1986-01-30|      BIGLIA|      AC Milan (ITA)|   175|  73|         1986|\n",
            "|Argentina|     7|     MF|       BANEGA Ever|1988-06-29|      BANEGA|    Sevilla FC (ESP)|   175|  73|         1988|\n",
            "|Argentina|    14|     DF| MASCHERANO Javier|1984-06-08|  MASCHERANO|Hebei China Fortu...|   174|  73|         1984|\n",
            "|Argentina|    21|     FW|      DYBALA Paulo|1993-11-15|      DYBALA|   Juventus FC (ITA)|   177|  73|         1993|\n",
            "|Argentina|    19|     FW|     AGUERO Sergio|1988-06-02|      AGÜERO|Manchester City F...|   172|  74|         1988|\n",
            "|Argentina|     9|     FW|   HIGUAIN Gonzalo|1987-12-10|     HIGUAÍN|   Juventus FC (ITA)|   184|  75|         1987|\n",
            "|Argentina|    11|     MF|    DI MARIA Angel|1988-02-14|    DI MARÍA|Paris Saint-Germa...|   178|  75|         1988|\n",
            "|Argentina|    20|     MF|  LO CELSO Giovani|1996-04-09|    LO CELSO|Paris Saint-Germa...|   177|  75|         1996|\n",
            "|Argentina|    13|     MF|  MEZA Maximiliano|1992-12-15|        MEZA|CA Independiente ...|   180|  76|         1992|\n",
            "|Argentina|     8|     DF|      ACUNA Marcos|1991-10-28|       ACUÑA|   Sporting CP (POR)|   172|  77|         1991|\n",
            "|Argentina|    23|     GK|CABALLERO Wilfredo|1981-09-28|   CABALLERO|    Chelsea FC (ENG)|   186|  80|         1981|\n",
            "|Argentina|     2|     DF|   MERCADO Gabriel|1987-03-18|     MERCADO|    Sevilla FC (ESP)|   181|  81|         1987|\n",
            "|Argentina|    17|     DF|  OTAMENDI Nicolas|1988-02-12|    OTAMENDI|Manchester City F...|   181|  81|         1988|\n",
            "|Argentina|    16|     DF|       ROJO Marcos|1990-03-20|        ROJO|Manchester United...|   189|  82|         1990|\n",
            "+---------+------+-------+------------------+----------+------------+--------------------+------+----+-------------+\n",
            "only showing top 20 rows\n",
            "\n",
            "root\n",
            " |-- Selecao: string (nullable = true)\n",
            " |-- Numero: integer (nullable = true)\n",
            " |-- Posicao: string (nullable = true)\n",
            " |-- nomeFifa: string (nullable = true)\n",
            " |-- Nascimento: date (nullable = true)\n",
            " |-- nomeCamiseta: string (nullable = true)\n",
            " |-- Time: string (nullable = true)\n",
            " |-- Altura: integer (nullable = true)\n",
            " |-- Peso: integer (nullable = true)\n",
            " |-- AnoNascimento: string (nullable = true)\n",
            "\n"
          ]
        }
      ]
    }
  ]
}